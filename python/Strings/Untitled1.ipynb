{
 "cells": [
  {
   "cell_type": "code",
   "execution_count": 1,
   "id": "3c2744dc",
   "metadata": {},
   "outputs": [],
   "source": [
    "letter='''<|NAME|>\n",
    "You are selected\n",
    "Date:<|DATE|>\n",
    "'''"
   ]
  },
  {
   "cell_type": "code",
   "execution_count": 2,
   "id": "44d3894e",
   "metadata": {},
   "outputs": [
    {
     "name": "stdout",
     "output_type": "stream",
     "text": [
      "Enter your name :\n",
      "Apurv Kumar\n",
      "Enter the date :\n",
      "06 November\n",
      "\n",
      "Apurv Kumar\n",
      "You are selected\n",
      "Date:06 November\n",
      "\n"
     ]
    }
   ],
   "source": [
    "name=input(\"Enter your name :\\n\")\n",
    "date=input(\"Enter the date :\\n\")\n",
    "\n",
    "letter=letter.replace(\"<|NAME|>\",name)\n",
    "letter=letter.replace(\"<|DATE|>\",date)\n",
    "print()\n",
    "print(letter)"
   ]
  },
  {
   "cell_type": "code",
   "execution_count": null,
   "id": "368536cd",
   "metadata": {},
   "outputs": [],
   "source": []
  },
  {
   "cell_type": "code",
   "execution_count": null,
   "id": "b50ecef7",
   "metadata": {},
   "outputs": [],
   "source": []
  }
 ],
 "metadata": {
  "kernelspec": {
   "display_name": "Python 3",
   "language": "python",
   "name": "python3"
  },
  "language_info": {
   "codemirror_mode": {
    "name": "ipython",
    "version": 3
   },
   "file_extension": ".py",
   "mimetype": "text/x-python",
   "name": "python",
   "nbconvert_exporter": "python",
   "pygments_lexer": "ipython3",
   "version": "3.8.8"
  }
 },
 "nbformat": 4,
 "nbformat_minor": 5
}
