{
 "cells": [
  {
   "cell_type": "code",
   "execution_count": 1,
   "id": "2a4cf57d",
   "metadata": {},
   "outputs": [
    {
     "name": "stdout",
     "output_type": "stream",
     "text": [
      "28\n"
     ]
    }
   ],
   "source": [
    "st=\"This ia a String with double  space\"\n",
    "doublesapce=st.find(\"  \")\n",
    "print(doublesapce)"
   ]
  },
  {
   "cell_type": "code",
   "execution_count": 7,
   "id": "2320998d",
   "metadata": {},
   "outputs": [
    {
     "name": "stdout",
     "output_type": "stream",
     "text": [
      "This ia a String with double space   ok\n"
     ]
    }
   ],
   "source": [
    "st2=\"This ia a String with double  space     ok\"\n",
    "st2=st2.replace(\"  \",\" \")\n",
    "print(st2)"
   ]
  },
  {
   "cell_type": "code",
   "execution_count": null,
   "id": "84fb91b4",
   "metadata": {},
   "outputs": [],
   "source": []
  }
 ],
 "metadata": {
  "kernelspec": {
   "display_name": "Python 3",
   "language": "python",
   "name": "python3"
  },
  "language_info": {
   "codemirror_mode": {
    "name": "ipython",
    "version": 3
   },
   "file_extension": ".py",
   "mimetype": "text/x-python",
   "name": "python",
   "nbconvert_exporter": "python",
   "pygments_lexer": "ipython3",
   "version": "3.8.8"
  }
 },
 "nbformat": 4,
 "nbformat_minor": 5
}
