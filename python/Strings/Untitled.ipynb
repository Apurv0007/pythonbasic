{
 "cells": [
  {
   "cell_type": "code",
   "execution_count": 3,
   "id": "091d67ef",
   "metadata": {},
   "outputs": [
    {
     "name": "stdout",
     "output_type": "stream",
     "text": [
      "Enter ur name\n",
      "harry\n",
      "Good after noon , harry\n"
     ]
    }
   ],
   "source": [
    "name=input(\"Enter ur name\\n\")\n",
    "print(\"Good after noon ,\",name)"
   ]
  },
  {
   "cell_type": "code",
   "execution_count": null,
   "id": "fcfc9229",
   "metadata": {},
   "outputs": [],
   "source": []
  }
 ],
 "metadata": {
  "kernelspec": {
   "display_name": "Python 3",
   "language": "python",
   "name": "python3"
  },
  "language_info": {
   "codemirror_mode": {
    "name": "ipython",
    "version": 3
   },
   "file_extension": ".py",
   "mimetype": "text/x-python",
   "name": "python",
   "nbconvert_exporter": "python",
   "pygments_lexer": "ipython3",
   "version": "3.8.8"
  }
 },
 "nbformat": 4,
 "nbformat_minor": 5
}
