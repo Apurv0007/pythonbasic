{
 "cells": [
  {
   "cell_type": "code",
   "execution_count": 1,
   "id": "3ff23c19",
   "metadata": {},
   "outputs": [],
   "source": [
    "a=3"
   ]
  },
  {
   "cell_type": "code",
   "execution_count": 2,
   "id": "113263ca",
   "metadata": {},
   "outputs": [],
   "source": [
    "b=4"
   ]
  },
  {
   "cell_type": "code",
   "execution_count": 9,
   "id": "0f87b51a",
   "metadata": {},
   "outputs": [
    {
     "name": "stdout",
     "output_type": "stream",
     "text": [
      "the value of a+b is : 7\n",
      "the value of a-b is : -1\n",
      "the value of a*b is : 12\n",
      "the value of a/b is : 0.75\n"
     ]
    }
   ],
   "source": [
    "print (\"the value of a+b is :\",a+b)\n",
    "print (\"the value of a-b is :\",a-b)\n",
    "print (\"the value of a*b is :\",a*b)\n",
    "print (\"the value of a/b is :\",a/b)"
   ]
  },
  {
   "cell_type": "code",
   "execution_count": 14,
   "id": "a5d64145",
   "metadata": {},
   "outputs": [
    {
     "name": "stdout",
     "output_type": "stream",
     "text": [
      "True\n"
     ]
    }
   ],
   "source": [
    "b=(14>=7)\n",
    "print(b)"
   ]
  },
  {
   "cell_type": "code",
   "execution_count": null,
   "id": "3ec995ad",
   "metadata": {},
   "outputs": [],
   "source": [
    "#logical operator"
   ]
  },
  {
   "cell_type": "code",
   "execution_count": 18,
   "id": "14c7f314",
   "metadata": {},
   "outputs": [
    {
     "name": "stdout",
     "output_type": "stream",
     "text": [
      "The value of bool1 and bool2 is: False\n",
      "The value of bool1 or bool2 is: True\n",
      "The value of not bool2 is: True\n"
     ]
    }
   ],
   "source": [
    "boll1=True\n",
    "boll2=False\n",
    "print(\"The value of bool1 and bool2 is:\",(boll1 and boll2))\n",
    "print(\"The value of bool1 or bool2 is:\",(boll1 or boll2))\n",
    "print(\"The value of not bool2 is:\",(not boll2))"
   ]
  },
  {
   "cell_type": "code",
   "execution_count": 20,
   "id": "e74cbd34",
   "metadata": {},
   "outputs": [
    {
     "name": "stdout",
     "output_type": "stream",
     "text": [
      "Enter ur name :apurv\n",
      "apurv\n"
     ]
    }
   ],
   "source": [
    "e=input(\"Enter ur name :\")\n",
    "print(e)"
   ]
  },
  {
   "cell_type": "code",
   "execution_count": null,
   "id": "148b3038",
   "metadata": {},
   "outputs": [],
   "source": []
  }
 ],
 "metadata": {
  "kernelspec": {
   "display_name": "Python 3",
   "language": "python",
   "name": "python3"
  },
  "language_info": {
   "codemirror_mode": {
    "name": "ipython",
    "version": 3
   },
   "file_extension": ".py",
   "mimetype": "text/x-python",
   "name": "python",
   "nbconvert_exporter": "python",
   "pygments_lexer": "ipython3",
   "version": "3.8.8"
  }
 },
 "nbformat": 4,
 "nbformat_minor": 5
}
