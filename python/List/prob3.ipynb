{
 "cells": [
  {
   "cell_type": "code",
   "execution_count": 1,
   "id": "6bfa5178",
   "metadata": {},
   "outputs": [
    {
     "name": "stdout",
     "output_type": "stream",
     "text": [
      "Enter the marks of student 1 :21\n",
      "Enter the marks of student 2 :43\n",
      "Enter the marks of student 3 :657\n",
      "Enter the marks of student 4 :12324\n",
      "Enter the marks of student 5 :4\n",
      "Enter the marks of student 6 :9\n",
      "[4, 9, 21, 43, 657, 12324]\n"
     ]
    }
   ],
   "source": [
    "m1=int(input(\"Enter the marks of student 1 :\"))\n",
    "m2=int(input(\"Enter the marks of student 2 :\"))\n",
    "m3=int(input(\"Enter the marks of student 3 :\"))\n",
    "m4=int(input(\"Enter the marks of student 4 :\"))\n",
    "m5=int(input(\"Enter the marks of student 5 :\"))\n",
    "m6=int(input(\"Enter the marks of student 6 :\"))\n",
    "mylist=[m1,m2,m3,m4,m5,m6]\n",
    "mylist.sort()\n",
    "print(mylist)"
   ]
  },
  {
   "cell_type": "code",
   "execution_count": null,
   "id": "b42dcfa4",
   "metadata": {},
   "outputs": [],
   "source": []
  }
 ],
 "metadata": {
  "kernelspec": {
   "display_name": "Python 3",
   "language": "python",
   "name": "python3"
  },
  "language_info": {
   "codemirror_mode": {
    "name": "ipython",
    "version": 3
   },
   "file_extension": ".py",
   "mimetype": "text/x-python",
   "name": "python",
   "nbconvert_exporter": "python",
   "pygments_lexer": "ipython3",
   "version": "3.8.8"
  }
 },
 "nbformat": 4,
 "nbformat_minor": 5
}
