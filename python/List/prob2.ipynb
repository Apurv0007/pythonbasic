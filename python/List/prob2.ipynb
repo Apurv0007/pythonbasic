{
 "cells": [
  {
   "cell_type": "code",
   "execution_count": 2,
   "id": "296c6f7e",
   "metadata": {},
   "outputs": [
    {
     "name": "stdout",
     "output_type": "stream",
     "text": [
      "Enter the fruit number 1 apple\n",
      "Enter the fruit number 2 mango\n",
      "Enter the fruit number 3 guava\n",
      "Enter the fruit number 4 banana \n",
      "Enter the fruit number 5 papaya\n",
      "Enter the fruit number 6 orage\n",
      "Enter the fruit number 7 grapes\n",
      "['apple', 'mango', 'guava', 'banana ', 'papaya', 'orage', 'grapes']\n"
     ]
    }
   ],
   "source": [
    "f1=input(\"Enter the fruit number 1 \")\n",
    "f2=input(\"Enter the fruit number 2 \")\n",
    "f3=input(\"Enter the fruit number 3 \")\n",
    "f4=input(\"Enter the fruit number 4 \")\n",
    "f5=input(\"Enter the fruit number 5 \")\n",
    "f6=input(\"Enter the fruit number 6 \")\n",
    "f7=input(\"Enter the fruit number 7 \")\n",
    "myfruitlist=[f1,f2,f3,f4,f5,f6,f7]\n",
    "print(myfruitlist)"
   ]
  },
  {
   "cell_type": "code",
   "execution_count": null,
   "id": "9568f461",
   "metadata": {},
   "outputs": [],
   "source": []
  }
 ],
 "metadata": {
  "kernelspec": {
   "display_name": "Python 3",
   "language": "python",
   "name": "python3"
  },
  "language_info": {
   "codemirror_mode": {
    "name": "ipython",
    "version": 3
   },
   "file_extension": ".py",
   "mimetype": "text/x-python",
   "name": "python",
   "nbconvert_exporter": "python",
   "pygments_lexer": "ipython3",
   "version": "3.8.8"
  }
 },
 "nbformat": 4,
 "nbformat_minor": 5
}
