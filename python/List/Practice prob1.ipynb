{
 "cells": [
  {
   "cell_type": "code",
   "execution_count": null,
   "id": "d8713acc",
   "metadata": {},
   "outputs": [],
   "source": [
    "f1=input(\"Enter the fruit number 1 \")\n",
    "f2=input(\"Enter the fruit number 2 \")\n",
    "f3=input(\"Enter the fruit number 3 \")\n",
    "f4=input(\"Enter the fruit number 4 \")\n",
    "f5=input(\"Enter the fruit number 5 \")\n",
    "f6=input(\"Enter the fruit number 6 \")\n",
    "f7=input(\"Enter the fruit number 7 \")\n",
    "myfruitlist=[f1,f2,f3,f4,f5,f6,f7]\n",
    "print(myfruitlist)"
   ]
  },
  {
   "cell_type": "code",
   "execution_count": null,
   "id": "e53f7be4",
   "metadata": {},
   "outputs": [],
   "source": []
  },
  {
   "cell_type": "code",
   "execution_count": null,
   "id": "70f5745b",
   "metadata": {},
   "outputs": [],
   "source": []
  },
  {
   "cell_type": "code",
   "execution_count": null,
   "id": "ae591cfc",
   "metadata": {},
   "outputs": [],
   "source": []
  }
 ],
 "metadata": {
  "kernelspec": {
   "display_name": "Python 3",
   "language": "python",
   "name": "python3"
  },
  "language_info": {
   "codemirror_mode": {
    "name": "ipython",
    "version": 3
   },
   "file_extension": ".py",
   "mimetype": "text/x-python",
   "name": "python",
   "nbconvert_exporter": "python",
   "pygments_lexer": "ipython3",
   "version": "3.8.8"
  }
 },
 "nbformat": 4,
 "nbformat_minor": 5
}
