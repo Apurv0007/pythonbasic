{
 "cells": [
  {
   "cell_type": "code",
   "execution_count": 2,
   "id": "11f84cf8",
   "metadata": {},
   "outputs": [
    {
     "name": "stdout",
     "output_type": "stream",
     "text": [
      "In a quick manner\n",
      "[45, 48]\n"
     ]
    }
   ],
   "source": [
    "mydict={\n",
    "    \"fast\":\"In a quick manner\",\n",
    "    \"Harry\":\"A coder\",\n",
    "    \"Marks\":[1,2,5]\n",
    " \n",
    "}\n",
    "print(mydict['fast'])\n",
    "mydict['Marks'] = [45,48]\n",
    "print(mydict['Marks'])\n"
   ]
  },
  {
   "cell_type": "code",
   "execution_count": null,
   "id": "9067560b",
   "metadata": {},
   "outputs": [],
   "source": []
  },
  {
   "cell_type": "code",
   "execution_count": null,
   "id": "bb01d310",
   "metadata": {},
   "outputs": [],
   "source": []
  }
 ],
 "metadata": {
  "kernelspec": {
   "display_name": "Python 3",
   "language": "python",
   "name": "python3"
  },
  "language_info": {
   "codemirror_mode": {
    "name": "ipython",
    "version": 3
   },
   "file_extension": ".py",
   "mimetype": "text/x-python",
   "name": "python",
   "nbconvert_exporter": "python",
   "pygments_lexer": "ipython3",
   "version": "3.8.8"
  }
 },
 "nbformat": 4,
 "nbformat_minor": 5
}
